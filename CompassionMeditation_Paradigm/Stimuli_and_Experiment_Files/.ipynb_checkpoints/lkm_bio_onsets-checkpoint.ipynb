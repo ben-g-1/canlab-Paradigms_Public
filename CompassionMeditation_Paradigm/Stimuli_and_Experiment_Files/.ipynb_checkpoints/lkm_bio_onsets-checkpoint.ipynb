{
 "metadata": {
  "name": "",
  "signature": "sha256:8424a82036c2d0fda288490f05f2865693a8cfb0c495a01430e0b88780c25e37"
 },
 "nbformat": 3,
 "nbformat_minor": 0,
 "worksheets": [
  {
   "cells": [
    {
     "cell_type": "markdown",
     "metadata": {},
     "source": [
      "load audio files"
     ]
    },
    {
     "cell_type": "code",
     "collapsed": false,
     "input": [],
     "language": "python",
     "metadata": {},
     "outputs": []
    },
    {
     "cell_type": "heading",
     "level": 1,
     "metadata": {},
     "source": [
      "just play the audio file"
     ]
    },
    {
     "cell_type": "code",
     "collapsed": false,
     "input": [
      "\n",
      "import pyaudio\n",
      "import wave\n",
      "import sys\n",
      "\n",
      "CHUNK = 1024\n",
      "\n",
      "fname = \n",
      "\n",
      "wf = wave.open(fname, 'rb')\n",
      "\n",
      "p = pyaudio.PyAudio()\n",
      "\n",
      "stream = p.open(format=p.get_format_from_width(wf.getsampwidth()),\n",
      "                channels=wf.getnchannels(),\n",
      "                rate=wf.getframerate(),\n",
      "                output=True)\n",
      "\n",
      "data = wf.readframes(CHUNK)\n",
      "\n",
      "while data != '':\n",
      "    stream.write(data)\n",
      "    data = wf.readframes(CHUNK)\n",
      "\n",
      "stream.stop_stream()\n",
      "stream.close()\n",
      "\n",
      "p.terminate()"
     ],
     "language": "python",
     "metadata": {},
     "outputs": []
    }
   ],
   "metadata": {}
  }
 ]
}